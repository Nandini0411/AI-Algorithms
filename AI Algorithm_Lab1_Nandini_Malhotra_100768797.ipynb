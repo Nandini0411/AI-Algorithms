{
 "cells": [
  {
   "cell_type": "markdown",
   "metadata": {},
   "source": [
    "# The following analyis is done on the Flight Dataset:"
   ]
  },
  {
   "cell_type": "markdown",
   "metadata": {},
   "source": [
    "The dataset is the record of the flights for the year 2013 and has the following fields:\n",
    "1. Flight details including carrier name, flight number, origin and destination, tail number\n",
    "2. The flight scgedule including the scheduled arrival and departure time, actual arrival and departure time, arrival and departure and delay.\n",
    "3. The distance travelled and the time it took to travel that distance."
   ]
  },
  {
   "cell_type": "code",
   "execution_count": 140,
   "metadata": {},
   "outputs": [],
   "source": [
    "# importing necessary libraries\n",
    "import numpy as np\n",
    "import pandas as pd\n",
    "import matplotlib.pyplot as plt\n",
    "%matplotlib inline\n",
    "import seaborn as sns\n",
    "import math"
   ]
  },
  {
   "cell_type": "code",
   "execution_count": 141,
   "metadata": {
    "scrolled": true
   },
   "outputs": [
    {
     "data": {
      "text/html": [
       "<div>\n",
       "<style scoped>\n",
       "    .dataframe tbody tr th:only-of-type {\n",
       "        vertical-align: middle;\n",
       "    }\n",
       "\n",
       "    .dataframe tbody tr th {\n",
       "        vertical-align: top;\n",
       "    }\n",
       "\n",
       "    .dataframe thead th {\n",
       "        text-align: right;\n",
       "    }\n",
       "</style>\n",
       "<table border=\"1\" class=\"dataframe\">\n",
       "  <thead>\n",
       "    <tr style=\"text-align: right;\">\n",
       "      <th></th>\n",
       "      <th>year</th>\n",
       "      <th>month</th>\n",
       "      <th>day</th>\n",
       "      <th>dep_time</th>\n",
       "      <th>sched_dep_time</th>\n",
       "      <th>dep_delay</th>\n",
       "      <th>arr_time</th>\n",
       "      <th>sched_arr_time</th>\n",
       "      <th>arr_delay</th>\n",
       "      <th>carrier</th>\n",
       "      <th>flight</th>\n",
       "      <th>tailnum</th>\n",
       "      <th>origin</th>\n",
       "      <th>dest</th>\n",
       "      <th>air_time</th>\n",
       "      <th>distance</th>\n",
       "      <th>hour</th>\n",
       "      <th>minute</th>\n",
       "      <th>time_hour</th>\n",
       "    </tr>\n",
       "  </thead>\n",
       "  <tbody>\n",
       "    <tr>\n",
       "      <th>0</th>\n",
       "      <td>2013</td>\n",
       "      <td>1</td>\n",
       "      <td>1</td>\n",
       "      <td>517.0</td>\n",
       "      <td>515</td>\n",
       "      <td>2.0</td>\n",
       "      <td>830.0</td>\n",
       "      <td>819</td>\n",
       "      <td>11.0</td>\n",
       "      <td>UA</td>\n",
       "      <td>1545</td>\n",
       "      <td>N14228</td>\n",
       "      <td>EWR</td>\n",
       "      <td>IAH</td>\n",
       "      <td>227.0</td>\n",
       "      <td>1400</td>\n",
       "      <td>5</td>\n",
       "      <td>15</td>\n",
       "      <td>2013-01-01T05:00:00Z</td>\n",
       "    </tr>\n",
       "    <tr>\n",
       "      <th>1</th>\n",
       "      <td>2013</td>\n",
       "      <td>1</td>\n",
       "      <td>1</td>\n",
       "      <td>533.0</td>\n",
       "      <td>529</td>\n",
       "      <td>4.0</td>\n",
       "      <td>850.0</td>\n",
       "      <td>830</td>\n",
       "      <td>20.0</td>\n",
       "      <td>UA</td>\n",
       "      <td>1714</td>\n",
       "      <td>N24211</td>\n",
       "      <td>LGA</td>\n",
       "      <td>IAH</td>\n",
       "      <td>227.0</td>\n",
       "      <td>1416</td>\n",
       "      <td>5</td>\n",
       "      <td>29</td>\n",
       "      <td>2013-01-01T05:00:00Z</td>\n",
       "    </tr>\n",
       "    <tr>\n",
       "      <th>2</th>\n",
       "      <td>2013</td>\n",
       "      <td>1</td>\n",
       "      <td>1</td>\n",
       "      <td>542.0</td>\n",
       "      <td>540</td>\n",
       "      <td>2.0</td>\n",
       "      <td>923.0</td>\n",
       "      <td>850</td>\n",
       "      <td>33.0</td>\n",
       "      <td>AA</td>\n",
       "      <td>1141</td>\n",
       "      <td>N619AA</td>\n",
       "      <td>JFK</td>\n",
       "      <td>MIA</td>\n",
       "      <td>160.0</td>\n",
       "      <td>1089</td>\n",
       "      <td>5</td>\n",
       "      <td>40</td>\n",
       "      <td>2013-01-01T05:00:00Z</td>\n",
       "    </tr>\n",
       "    <tr>\n",
       "      <th>3</th>\n",
       "      <td>2013</td>\n",
       "      <td>1</td>\n",
       "      <td>1</td>\n",
       "      <td>544.0</td>\n",
       "      <td>545</td>\n",
       "      <td>-1.0</td>\n",
       "      <td>1004.0</td>\n",
       "      <td>1022</td>\n",
       "      <td>-18.0</td>\n",
       "      <td>B6</td>\n",
       "      <td>725</td>\n",
       "      <td>N804JB</td>\n",
       "      <td>JFK</td>\n",
       "      <td>BQN</td>\n",
       "      <td>183.0</td>\n",
       "      <td>1576</td>\n",
       "      <td>5</td>\n",
       "      <td>45</td>\n",
       "      <td>2013-01-01T05:00:00Z</td>\n",
       "    </tr>\n",
       "    <tr>\n",
       "      <th>4</th>\n",
       "      <td>2013</td>\n",
       "      <td>1</td>\n",
       "      <td>1</td>\n",
       "      <td>554.0</td>\n",
       "      <td>600</td>\n",
       "      <td>-6.0</td>\n",
       "      <td>812.0</td>\n",
       "      <td>837</td>\n",
       "      <td>-25.0</td>\n",
       "      <td>DL</td>\n",
       "      <td>461</td>\n",
       "      <td>N668DN</td>\n",
       "      <td>LGA</td>\n",
       "      <td>ATL</td>\n",
       "      <td>116.0</td>\n",
       "      <td>762</td>\n",
       "      <td>6</td>\n",
       "      <td>0</td>\n",
       "      <td>2013-01-01T06:00:00Z</td>\n",
       "    </tr>\n",
       "  </tbody>\n",
       "</table>\n",
       "</div>"
      ],
      "text/plain": [
       "   year  month  day  dep_time  sched_dep_time  dep_delay  arr_time  \\\n",
       "0  2013      1    1     517.0             515        2.0     830.0   \n",
       "1  2013      1    1     533.0             529        4.0     850.0   \n",
       "2  2013      1    1     542.0             540        2.0     923.0   \n",
       "3  2013      1    1     544.0             545       -1.0    1004.0   \n",
       "4  2013      1    1     554.0             600       -6.0     812.0   \n",
       "\n",
       "   sched_arr_time  arr_delay carrier  flight tailnum origin dest  air_time  \\\n",
       "0             819       11.0      UA    1545  N14228    EWR  IAH     227.0   \n",
       "1             830       20.0      UA    1714  N24211    LGA  IAH     227.0   \n",
       "2             850       33.0      AA    1141  N619AA    JFK  MIA     160.0   \n",
       "3            1022      -18.0      B6     725  N804JB    JFK  BQN     183.0   \n",
       "4             837      -25.0      DL     461  N668DN    LGA  ATL     116.0   \n",
       "\n",
       "   distance  hour  minute             time_hour  \n",
       "0      1400     5      15  2013-01-01T05:00:00Z  \n",
       "1      1416     5      29  2013-01-01T05:00:00Z  \n",
       "2      1089     5      40  2013-01-01T05:00:00Z  \n",
       "3      1576     5      45  2013-01-01T05:00:00Z  \n",
       "4       762     6       0  2013-01-01T06:00:00Z  "
      ]
     },
     "execution_count": 141,
     "metadata": {},
     "output_type": "execute_result"
    }
   ],
   "source": [
    "# load dataset\n",
    "dataset=pd.read_csv(r'C:\\Users\\nandi\\Documents\\PythonData1200\\flights.csv')\n",
    "dataset.head()"
   ]
  },
  {
   "cell_type": "markdown",
   "metadata": {},
   "source": [
    "Identifying the rows with atleast one NA value\n",
    "\n"
   ]
  },
  {
   "cell_type": "code",
   "execution_count": 142,
   "metadata": {
    "scrolled": true
   },
   "outputs": [
    {
     "data": {
      "text/plain": [
       "year                 0\n",
       "month                0\n",
       "day                  0\n",
       "dep_time          8255\n",
       "sched_dep_time       0\n",
       "dep_delay         8255\n",
       "arr_time          8713\n",
       "sched_arr_time       0\n",
       "arr_delay         9430\n",
       "carrier              0\n",
       "flight               0\n",
       "tailnum           2512\n",
       "origin               0\n",
       "dest                 0\n",
       "air_time          9430\n",
       "distance             0\n",
       "hour                 0\n",
       "minute               0\n",
       "time_hour            0\n",
       "dtype: int64"
      ]
     },
     "execution_count": 142,
     "metadata": {},
     "output_type": "execute_result"
    }
   ],
   "source": [
    "#Summary of N/A Values\n",
    "dataset.isnull().sum()"
   ]
  },
  {
   "cell_type": "code",
   "execution_count": 143,
   "metadata": {},
   "outputs": [],
   "source": [
    "text = open(r\"C:\\Users\\nandi\\Documents\\PythonData1200\\flights.csv\", \"r\")\n",
    "text = ''.join([i for i in text]).replace(\"NaN\", \"nan\")\n",
    "x = open(\"dataset_final.csv\",\"w\")\n",
    "x.writelines(text)\n",
    "x.close()"
   ]
  },
  {
   "cell_type": "markdown",
   "metadata": {},
   "source": [
    "Removing the rows with 'Na' Values"
   ]
  },
  {
   "cell_type": "code",
   "execution_count": 144,
   "metadata": {},
   "outputs": [
    {
     "data": {
      "text/html": [
       "<div>\n",
       "<style scoped>\n",
       "    .dataframe tbody tr th:only-of-type {\n",
       "        vertical-align: middle;\n",
       "    }\n",
       "\n",
       "    .dataframe tbody tr th {\n",
       "        vertical-align: top;\n",
       "    }\n",
       "\n",
       "    .dataframe thead th {\n",
       "        text-align: right;\n",
       "    }\n",
       "</style>\n",
       "<table border=\"1\" class=\"dataframe\">\n",
       "  <thead>\n",
       "    <tr style=\"text-align: right;\">\n",
       "      <th></th>\n",
       "      <th>year</th>\n",
       "      <th>month</th>\n",
       "      <th>day</th>\n",
       "      <th>dep_time</th>\n",
       "      <th>sched_dep_time</th>\n",
       "      <th>dep_delay</th>\n",
       "      <th>arr_time</th>\n",
       "      <th>sched_arr_time</th>\n",
       "      <th>arr_delay</th>\n",
       "      <th>carrier</th>\n",
       "      <th>flight</th>\n",
       "      <th>tailnum</th>\n",
       "      <th>origin</th>\n",
       "      <th>dest</th>\n",
       "      <th>air_time</th>\n",
       "      <th>distance</th>\n",
       "      <th>hour</th>\n",
       "      <th>minute</th>\n",
       "      <th>time_hour</th>\n",
       "    </tr>\n",
       "  </thead>\n",
       "  <tbody>\n",
       "    <tr>\n",
       "      <th>0</th>\n",
       "      <td>2013</td>\n",
       "      <td>1</td>\n",
       "      <td>1</td>\n",
       "      <td>517.0</td>\n",
       "      <td>515</td>\n",
       "      <td>2.0</td>\n",
       "      <td>830.0</td>\n",
       "      <td>819</td>\n",
       "      <td>11.0</td>\n",
       "      <td>UA</td>\n",
       "      <td>1545</td>\n",
       "      <td>N14228</td>\n",
       "      <td>EWR</td>\n",
       "      <td>IAH</td>\n",
       "      <td>227.0</td>\n",
       "      <td>1400</td>\n",
       "      <td>5</td>\n",
       "      <td>15</td>\n",
       "      <td>2013-01-01T05:00:00Z</td>\n",
       "    </tr>\n",
       "    <tr>\n",
       "      <th>1</th>\n",
       "      <td>2013</td>\n",
       "      <td>1</td>\n",
       "      <td>1</td>\n",
       "      <td>533.0</td>\n",
       "      <td>529</td>\n",
       "      <td>4.0</td>\n",
       "      <td>850.0</td>\n",
       "      <td>830</td>\n",
       "      <td>20.0</td>\n",
       "      <td>UA</td>\n",
       "      <td>1714</td>\n",
       "      <td>N24211</td>\n",
       "      <td>LGA</td>\n",
       "      <td>IAH</td>\n",
       "      <td>227.0</td>\n",
       "      <td>1416</td>\n",
       "      <td>5</td>\n",
       "      <td>29</td>\n",
       "      <td>2013-01-01T05:00:00Z</td>\n",
       "    </tr>\n",
       "    <tr>\n",
       "      <th>2</th>\n",
       "      <td>2013</td>\n",
       "      <td>1</td>\n",
       "      <td>1</td>\n",
       "      <td>542.0</td>\n",
       "      <td>540</td>\n",
       "      <td>2.0</td>\n",
       "      <td>923.0</td>\n",
       "      <td>850</td>\n",
       "      <td>33.0</td>\n",
       "      <td>AA</td>\n",
       "      <td>1141</td>\n",
       "      <td>N619AA</td>\n",
       "      <td>JFK</td>\n",
       "      <td>MIA</td>\n",
       "      <td>160.0</td>\n",
       "      <td>1089</td>\n",
       "      <td>5</td>\n",
       "      <td>40</td>\n",
       "      <td>2013-01-01T05:00:00Z</td>\n",
       "    </tr>\n",
       "    <tr>\n",
       "      <th>3</th>\n",
       "      <td>2013</td>\n",
       "      <td>1</td>\n",
       "      <td>1</td>\n",
       "      <td>544.0</td>\n",
       "      <td>545</td>\n",
       "      <td>-1.0</td>\n",
       "      <td>1004.0</td>\n",
       "      <td>1022</td>\n",
       "      <td>-18.0</td>\n",
       "      <td>B6</td>\n",
       "      <td>725</td>\n",
       "      <td>N804JB</td>\n",
       "      <td>JFK</td>\n",
       "      <td>BQN</td>\n",
       "      <td>183.0</td>\n",
       "      <td>1576</td>\n",
       "      <td>5</td>\n",
       "      <td>45</td>\n",
       "      <td>2013-01-01T05:00:00Z</td>\n",
       "    </tr>\n",
       "    <tr>\n",
       "      <th>4</th>\n",
       "      <td>2013</td>\n",
       "      <td>1</td>\n",
       "      <td>1</td>\n",
       "      <td>554.0</td>\n",
       "      <td>600</td>\n",
       "      <td>-6.0</td>\n",
       "      <td>812.0</td>\n",
       "      <td>837</td>\n",
       "      <td>-25.0</td>\n",
       "      <td>DL</td>\n",
       "      <td>461</td>\n",
       "      <td>N668DN</td>\n",
       "      <td>LGA</td>\n",
       "      <td>ATL</td>\n",
       "      <td>116.0</td>\n",
       "      <td>762</td>\n",
       "      <td>6</td>\n",
       "      <td>0</td>\n",
       "      <td>2013-01-01T06:00:00Z</td>\n",
       "    </tr>\n",
       "    <tr>\n",
       "      <th>...</th>\n",
       "      <td>...</td>\n",
       "      <td>...</td>\n",
       "      <td>...</td>\n",
       "      <td>...</td>\n",
       "      <td>...</td>\n",
       "      <td>...</td>\n",
       "      <td>...</td>\n",
       "      <td>...</td>\n",
       "      <td>...</td>\n",
       "      <td>...</td>\n",
       "      <td>...</td>\n",
       "      <td>...</td>\n",
       "      <td>...</td>\n",
       "      <td>...</td>\n",
       "      <td>...</td>\n",
       "      <td>...</td>\n",
       "      <td>...</td>\n",
       "      <td>...</td>\n",
       "      <td>...</td>\n",
       "    </tr>\n",
       "    <tr>\n",
       "      <th>327341</th>\n",
       "      <td>2013</td>\n",
       "      <td>9</td>\n",
       "      <td>30</td>\n",
       "      <td>2240.0</td>\n",
       "      <td>2245</td>\n",
       "      <td>-5.0</td>\n",
       "      <td>2334.0</td>\n",
       "      <td>2351</td>\n",
       "      <td>-17.0</td>\n",
       "      <td>B6</td>\n",
       "      <td>1816</td>\n",
       "      <td>N354JB</td>\n",
       "      <td>JFK</td>\n",
       "      <td>SYR</td>\n",
       "      <td>41.0</td>\n",
       "      <td>209</td>\n",
       "      <td>22</td>\n",
       "      <td>45</td>\n",
       "      <td>2013-09-30T22:00:00Z</td>\n",
       "    </tr>\n",
       "    <tr>\n",
       "      <th>327342</th>\n",
       "      <td>2013</td>\n",
       "      <td>9</td>\n",
       "      <td>30</td>\n",
       "      <td>2240.0</td>\n",
       "      <td>2250</td>\n",
       "      <td>-10.0</td>\n",
       "      <td>2347.0</td>\n",
       "      <td>7</td>\n",
       "      <td>-20.0</td>\n",
       "      <td>B6</td>\n",
       "      <td>2002</td>\n",
       "      <td>N281JB</td>\n",
       "      <td>JFK</td>\n",
       "      <td>BUF</td>\n",
       "      <td>52.0</td>\n",
       "      <td>301</td>\n",
       "      <td>22</td>\n",
       "      <td>50</td>\n",
       "      <td>2013-09-30T22:00:00Z</td>\n",
       "    </tr>\n",
       "    <tr>\n",
       "      <th>327343</th>\n",
       "      <td>2013</td>\n",
       "      <td>9</td>\n",
       "      <td>30</td>\n",
       "      <td>2241.0</td>\n",
       "      <td>2246</td>\n",
       "      <td>-5.0</td>\n",
       "      <td>2345.0</td>\n",
       "      <td>1</td>\n",
       "      <td>-16.0</td>\n",
       "      <td>B6</td>\n",
       "      <td>486</td>\n",
       "      <td>N346JB</td>\n",
       "      <td>JFK</td>\n",
       "      <td>ROC</td>\n",
       "      <td>47.0</td>\n",
       "      <td>264</td>\n",
       "      <td>22</td>\n",
       "      <td>46</td>\n",
       "      <td>2013-09-30T22:00:00Z</td>\n",
       "    </tr>\n",
       "    <tr>\n",
       "      <th>327344</th>\n",
       "      <td>2013</td>\n",
       "      <td>9</td>\n",
       "      <td>30</td>\n",
       "      <td>2307.0</td>\n",
       "      <td>2255</td>\n",
       "      <td>12.0</td>\n",
       "      <td>2359.0</td>\n",
       "      <td>2358</td>\n",
       "      <td>1.0</td>\n",
       "      <td>B6</td>\n",
       "      <td>718</td>\n",
       "      <td>N565JB</td>\n",
       "      <td>JFK</td>\n",
       "      <td>BOS</td>\n",
       "      <td>33.0</td>\n",
       "      <td>187</td>\n",
       "      <td>22</td>\n",
       "      <td>55</td>\n",
       "      <td>2013-09-30T22:00:00Z</td>\n",
       "    </tr>\n",
       "    <tr>\n",
       "      <th>327345</th>\n",
       "      <td>2013</td>\n",
       "      <td>9</td>\n",
       "      <td>30</td>\n",
       "      <td>2349.0</td>\n",
       "      <td>2359</td>\n",
       "      <td>-10.0</td>\n",
       "      <td>325.0</td>\n",
       "      <td>350</td>\n",
       "      <td>-25.0</td>\n",
       "      <td>B6</td>\n",
       "      <td>745</td>\n",
       "      <td>N516JB</td>\n",
       "      <td>JFK</td>\n",
       "      <td>PSE</td>\n",
       "      <td>196.0</td>\n",
       "      <td>1617</td>\n",
       "      <td>23</td>\n",
       "      <td>59</td>\n",
       "      <td>2013-09-30T23:00:00Z</td>\n",
       "    </tr>\n",
       "  </tbody>\n",
       "</table>\n",
       "<p>327346 rows × 19 columns</p>\n",
       "</div>"
      ],
      "text/plain": [
       "        year  month  day  dep_time  sched_dep_time  dep_delay  arr_time  \\\n",
       "0       2013      1    1     517.0             515        2.0     830.0   \n",
       "1       2013      1    1     533.0             529        4.0     850.0   \n",
       "2       2013      1    1     542.0             540        2.0     923.0   \n",
       "3       2013      1    1     544.0             545       -1.0    1004.0   \n",
       "4       2013      1    1     554.0             600       -6.0     812.0   \n",
       "...      ...    ...  ...       ...             ...        ...       ...   \n",
       "327341  2013      9   30    2240.0            2245       -5.0    2334.0   \n",
       "327342  2013      9   30    2240.0            2250      -10.0    2347.0   \n",
       "327343  2013      9   30    2241.0            2246       -5.0    2345.0   \n",
       "327344  2013      9   30    2307.0            2255       12.0    2359.0   \n",
       "327345  2013      9   30    2349.0            2359      -10.0     325.0   \n",
       "\n",
       "        sched_arr_time  arr_delay carrier  flight tailnum origin dest  \\\n",
       "0                  819       11.0      UA    1545  N14228    EWR  IAH   \n",
       "1                  830       20.0      UA    1714  N24211    LGA  IAH   \n",
       "2                  850       33.0      AA    1141  N619AA    JFK  MIA   \n",
       "3                 1022      -18.0      B6     725  N804JB    JFK  BQN   \n",
       "4                  837      -25.0      DL     461  N668DN    LGA  ATL   \n",
       "...                ...        ...     ...     ...     ...    ...  ...   \n",
       "327341            2351      -17.0      B6    1816  N354JB    JFK  SYR   \n",
       "327342               7      -20.0      B6    2002  N281JB    JFK  BUF   \n",
       "327343               1      -16.0      B6     486  N346JB    JFK  ROC   \n",
       "327344            2358        1.0      B6     718  N565JB    JFK  BOS   \n",
       "327345             350      -25.0      B6     745  N516JB    JFK  PSE   \n",
       "\n",
       "        air_time  distance  hour  minute             time_hour  \n",
       "0          227.0      1400     5      15  2013-01-01T05:00:00Z  \n",
       "1          227.0      1416     5      29  2013-01-01T05:00:00Z  \n",
       "2          160.0      1089     5      40  2013-01-01T05:00:00Z  \n",
       "3          183.0      1576     5      45  2013-01-01T05:00:00Z  \n",
       "4          116.0       762     6       0  2013-01-01T06:00:00Z  \n",
       "...          ...       ...   ...     ...                   ...  \n",
       "327341      41.0       209    22      45  2013-09-30T22:00:00Z  \n",
       "327342      52.0       301    22      50  2013-09-30T22:00:00Z  \n",
       "327343      47.0       264    22      46  2013-09-30T22:00:00Z  \n",
       "327344      33.0       187    22      55  2013-09-30T22:00:00Z  \n",
       "327345     196.0      1617    23      59  2013-09-30T23:00:00Z  \n",
       "\n",
       "[327346 rows x 19 columns]"
      ]
     },
     "execution_count": 144,
     "metadata": {},
     "output_type": "execute_result"
    }
   ],
   "source": [
    "#Drop rows where all cells in that row is NA\n",
    "dataset=pd.read_csv(r'C:\\Users\\nandi\\Documents\\PythonData1200\\dataset_final.csv')\n",
    "dataset = dataset.dropna(how='any',axis=0).reset_index(drop = True)\n",
    "dataset"
   ]
  },
  {
   "cell_type": "code",
   "execution_count": 145,
   "metadata": {
    "scrolled": true
   },
   "outputs": [
    {
     "data": {
      "text/plain": [
       "year              0\n",
       "month             0\n",
       "day               0\n",
       "dep_time          0\n",
       "sched_dep_time    0\n",
       "dep_delay         0\n",
       "arr_time          0\n",
       "sched_arr_time    0\n",
       "arr_delay         0\n",
       "carrier           0\n",
       "flight            0\n",
       "tailnum           0\n",
       "origin            0\n",
       "dest              0\n",
       "air_time          0\n",
       "distance          0\n",
       "hour              0\n",
       "minute            0\n",
       "time_hour         0\n",
       "dtype: int64"
      ]
     },
     "execution_count": 145,
     "metadata": {},
     "output_type": "execute_result"
    }
   ],
   "source": [
    "#Summary of N/A Values\n",
    "dataset.isnull().sum()"
   ]
  },
  {
   "cell_type": "code",
   "execution_count": 146,
   "metadata": {},
   "outputs": [],
   "source": [
    "import sweetviz as sv"
   ]
  },
  {
   "cell_type": "code",
   "execution_count": 14,
   "metadata": {},
   "outputs": [
    {
     "name": "stderr",
     "output_type": "stream",
     "text": [
      ":FEATURES DONE:                    |█████████████████████| [100%]   00:08  -> (00:00 left)\n",
      ":PAIRWISE DONE:                    |█████████████████████| [100%]   00:10  -> (00:00 left)\n"
     ]
    },
    {
     "name": "stdout",
     "output_type": "stream",
     "text": [
      "Creating Associations graph... DONE!\n"
     ]
    }
   ],
   "source": [
    "events_report = sv.analyze(dataset)"
   ]
  },
  {
   "cell_type": "code",
   "execution_count": 15,
   "metadata": {
    "scrolled": false
   },
   "outputs": [
    {
     "name": "stdout",
     "output_type": "stream",
     "text": [
      "Report SWEETVIZ_REPORT.html was generated! NOTEBOOK/COLAB USERS: no browser will pop up, the report is saved in your notebook/colab files.\n"
     ]
    }
   ],
   "source": [
    "events_report.show_html()"
   ]
  },
  {
   "cell_type": "markdown",
   "metadata": {},
   "source": [
    "# Analysing the data carrrier wise"
   ]
  },
  {
   "cell_type": "markdown",
   "metadata": {},
   "source": [
    "# Visualisation 1: Carrier vs Average Speed"
   ]
  },
  {
   "cell_type": "markdown",
   "metadata": {},
   "source": [
    "Total hours per flight is calculated and then speed is calculated by dividing distance with the time"
   ]
  },
  {
   "cell_type": "code",
   "execution_count": 147,
   "metadata": {
    "scrolled": true
   },
   "outputs": [
    {
     "data": {
      "text/html": [
       "<div>\n",
       "<style scoped>\n",
       "    .dataframe tbody tr th:only-of-type {\n",
       "        vertical-align: middle;\n",
       "    }\n",
       "\n",
       "    .dataframe tbody tr th {\n",
       "        vertical-align: top;\n",
       "    }\n",
       "\n",
       "    .dataframe thead th {\n",
       "        text-align: right;\n",
       "    }\n",
       "</style>\n",
       "<table border=\"1\" class=\"dataframe\">\n",
       "  <thead>\n",
       "    <tr style=\"text-align: right;\">\n",
       "      <th></th>\n",
       "      <th>carrier</th>\n",
       "      <th>distance</th>\n",
       "      <th>total_time_hours</th>\n",
       "      <th>Speed</th>\n",
       "    </tr>\n",
       "  </thead>\n",
       "  <tbody>\n",
       "    <tr>\n",
       "      <th>0</th>\n",
       "      <td>UA</td>\n",
       "      <td>1400</td>\n",
       "      <td>5.250000</td>\n",
       "      <td>266.666667</td>\n",
       "    </tr>\n",
       "    <tr>\n",
       "      <th>1</th>\n",
       "      <td>UA</td>\n",
       "      <td>1416</td>\n",
       "      <td>5.483333</td>\n",
       "      <td>258.237082</td>\n",
       "    </tr>\n",
       "    <tr>\n",
       "      <th>2</th>\n",
       "      <td>AA</td>\n",
       "      <td>1089</td>\n",
       "      <td>5.666667</td>\n",
       "      <td>192.176471</td>\n",
       "    </tr>\n",
       "    <tr>\n",
       "      <th>3</th>\n",
       "      <td>B6</td>\n",
       "      <td>1576</td>\n",
       "      <td>5.750000</td>\n",
       "      <td>274.086957</td>\n",
       "    </tr>\n",
       "    <tr>\n",
       "      <th>4</th>\n",
       "      <td>DL</td>\n",
       "      <td>762</td>\n",
       "      <td>6.000000</td>\n",
       "      <td>127.000000</td>\n",
       "    </tr>\n",
       "    <tr>\n",
       "      <th>...</th>\n",
       "      <td>...</td>\n",
       "      <td>...</td>\n",
       "      <td>...</td>\n",
       "      <td>...</td>\n",
       "    </tr>\n",
       "    <tr>\n",
       "      <th>327341</th>\n",
       "      <td>B6</td>\n",
       "      <td>209</td>\n",
       "      <td>22.750000</td>\n",
       "      <td>9.186813</td>\n",
       "    </tr>\n",
       "    <tr>\n",
       "      <th>327342</th>\n",
       "      <td>B6</td>\n",
       "      <td>301</td>\n",
       "      <td>22.833333</td>\n",
       "      <td>13.182482</td>\n",
       "    </tr>\n",
       "    <tr>\n",
       "      <th>327343</th>\n",
       "      <td>B6</td>\n",
       "      <td>264</td>\n",
       "      <td>22.766667</td>\n",
       "      <td>11.595900</td>\n",
       "    </tr>\n",
       "    <tr>\n",
       "      <th>327344</th>\n",
       "      <td>B6</td>\n",
       "      <td>187</td>\n",
       "      <td>22.916667</td>\n",
       "      <td>8.160000</td>\n",
       "    </tr>\n",
       "    <tr>\n",
       "      <th>327345</th>\n",
       "      <td>B6</td>\n",
       "      <td>1617</td>\n",
       "      <td>23.983333</td>\n",
       "      <td>67.421821</td>\n",
       "    </tr>\n",
       "  </tbody>\n",
       "</table>\n",
       "<p>327346 rows × 4 columns</p>\n",
       "</div>"
      ],
      "text/plain": [
       "       carrier  distance  total_time_hours       Speed\n",
       "0           UA      1400          5.250000  266.666667\n",
       "1           UA      1416          5.483333  258.237082\n",
       "2           AA      1089          5.666667  192.176471\n",
       "3           B6      1576          5.750000  274.086957\n",
       "4           DL       762          6.000000  127.000000\n",
       "...        ...       ...               ...         ...\n",
       "327341      B6       209         22.750000    9.186813\n",
       "327342      B6       301         22.833333   13.182482\n",
       "327343      B6       264         22.766667   11.595900\n",
       "327344      B6       187         22.916667    8.160000\n",
       "327345      B6      1617         23.983333   67.421821\n",
       "\n",
       "[327346 rows x 4 columns]"
      ]
     },
     "execution_count": 147,
     "metadata": {},
     "output_type": "execute_result"
    }
   ],
   "source": [
    "total_hour=dataset[['distance','carrier','hour','minute']]\n",
    "total_hour['total_time_hours']=((dataset.hour*60)+dataset.minute)/60\n",
    "total_speed=total_hour[['carrier','distance','total_time_hours']]\n",
    "total_speed['Speed']=total_speed.distance/total_speed.total_time_hours\n",
    "total_speed"
   ]
  },
  {
   "cell_type": "markdown",
   "metadata": {},
   "source": [
    "Calculating average speed per carrier"
   ]
  },
  {
   "cell_type": "code",
   "execution_count": 148,
   "metadata": {},
   "outputs": [
    {
     "name": "stdout",
     "output_type": "stream",
     "text": [
      "    Speed\n",
      "0   17294\n",
      "1   31947\n",
      "2     709\n",
      "3   54049\n",
      "4   47658\n",
      "5   51108\n",
      "6     681\n",
      "7    3175\n",
      "8     342\n",
      "9   25037\n",
      "10     29\n",
      "11  57782\n",
      "12  19831\n",
      "13   5116\n",
      "14  12044\n",
      "15    544\n",
      "   carrier         Speed\n",
      "0       9E  6.916136e+05\n",
      "1       AA  3.700783e+06\n",
      "2       AS  1.604450e+05\n",
      "3       B6  4.737497e+06\n",
      "4       DL  4.871443e+06\n",
      "5       EV  2.415509e+06\n",
      "6       F9  8.445221e+04\n",
      "7       FL  1.781351e+05\n",
      "8       HA  1.749179e+05\n",
      "9       MQ  1.167635e+06\n",
      "10      OO  8.888386e+02\n",
      "11      UA  7.755054e+06\n",
      "12      US  1.043378e+06\n",
      "13      VX  1.122647e+06\n",
      "14      WN  1.075622e+06\n",
      "15      YV  1.338724e+04\n"
     ]
    }
   ],
   "source": [
    "grouped_carr_speed1=total_speed.groupby([\"carrier\"])['Speed'].count().reset_index()\n",
    "grouped_carr_speed1=grouped_carr_speed1.drop(\"carrier\",axis=1)\n",
    "grouped_carr_speed2=total_speed.groupby([\"carrier\"])['Speed'].sum().reset_index()\n",
    "print(grouped_carr_speed1)\n",
    "print(grouped_carr_speed2)"
   ]
  },
  {
   "cell_type": "code",
   "execution_count": 149,
   "metadata": {
    "scrolled": true
   },
   "outputs": [
    {
     "name": "stdout",
     "output_type": "stream",
     "text": [
      "   carrier  avg_speed\n",
      "8       HA     511.46\n",
      "2       AS     226.30\n",
      "13      VX     219.44\n",
      "11      UA     134.21\n",
      "6       F9     124.01\n",
      "1       AA     115.84\n",
      "4       DL     102.22\n",
      "14      WN      89.31\n",
      "3       B6      87.65\n",
      "7       FL      56.11\n",
      "12      US      52.61\n",
      "5       EV      47.26\n",
      "9       MQ      46.64\n",
      "0       9E      39.99\n",
      "10      OO      30.65\n",
      "15      YV      24.61\n"
     ]
    }
   ],
   "source": [
    "tot_carr_speed=pd.concat([grouped_carr_speed1,grouped_carr_speed2],axis=1)\n",
    "tot_carr_speed['avg_speed']=round(grouped_carr_speed2.Speed/grouped_carr_speed1.Speed,2)\n",
    "fin_carr_speed=tot_carr_speed[['carrier','avg_speed']].sort_values(\"avg_speed\",ascending=False)\n",
    "print(fin_carr_speed)"
   ]
  },
  {
   "cell_type": "markdown",
   "metadata": {},
   "source": [
    "# HA has the maximum average speed of all the carrier"
   ]
  },
  {
   "cell_type": "code",
   "execution_count": 150,
   "metadata": {},
   "outputs": [
    {
     "data": {
      "image/png": "[encoded data removed]",
      "text/plain": [
       "<Figure size 432x288 with 1 Axes>"
      ]
     },
     "metadata": {
      "needs_background": "light"
     },
     "output_type": "display_data"
    }
   ],
   "source": [
    "plt.title(\"Carrier v/s average speed of flight\")\n",
    "plt.bar(x=np.arange(1,17),height=fin_carr_speed['avg_speed'])\n",
    "plt.xticks(np.arange(1,17), fin_carr_speed['carrier'], rotation=90)\n",
    "plt.xlabel(\"Carrier\")\n",
    "plt.ylabel(\"Average Speed\")\n",
    "plt.show()"
   ]
  },
  {
   "cell_type": "markdown",
   "metadata": {},
   "source": [
    "# Visualisation 2: Carrier vs Average Arrival Delay"
   ]
  },
  {
   "cell_type": "markdown",
   "metadata": {},
   "source": [
    "All the delays that are positive are considered, as it indicated that the flights arrived late.\n",
    "The delayed arrivals are averaged per carrier."
   ]
  },
  {
   "cell_type": "code",
   "execution_count": 151,
   "metadata": {
    "scrolled": true
   },
   "outputs": [
    {
     "name": "stdout",
     "output_type": "stream",
     "text": [
      "    arr_delay\n",
      "0        6637\n",
      "1       10706\n",
      "2         189\n",
      "3       23609\n",
      "4       16413\n",
      "5       24484\n",
      "6         392\n",
      "7        1895\n",
      "8          97\n",
      "9       11693\n",
      "10         10\n",
      "11      22222\n",
      "12       7349\n",
      "13       1746\n",
      "14       5304\n",
      "15        258\n",
      "   carrier  arr_delay\n",
      "0       9E   327023.0\n",
      "1       AA   409671.0\n",
      "2       AS     6495.0\n",
      "3       B6   944574.0\n",
      "4       DL   619485.0\n",
      "5       EV  1181808.0\n",
      "6       F9    18651.0\n",
      "7       FL    77874.0\n",
      "8       HA     3398.0\n",
      "9       MQ   442604.0\n",
      "10      OO      606.0\n",
      "11      UA   814458.0\n",
      "12      US   213206.0\n",
      "13      VX    76557.0\n",
      "14      WN   216125.0\n",
      "15      YV    13179.0\n"
     ]
    }
   ],
   "source": [
    "carr_arr_delay=dataset.loc[dataset['arr_delay'] > 0]\n",
    "carr_arr_delay= carr_arr_delay[['carrier','arr_delay']]\n",
    "grouped_carr_arrdel1=carr_arr_delay.groupby([\"carrier\"])['arr_delay'].count().reset_index()\n",
    "grouped_carr_arrdel1=grouped_carr_arrdel1.drop(\"carrier\",axis=1)\n",
    "grouped_carr_arrdel2=carr_arr_delay.groupby([\"carrier\"])['arr_delay'].sum().reset_index()\n",
    "print(grouped_carr_arrdel1)\n",
    "print(grouped_carr_arrdel2)\n"
   ]
  },
  {
   "cell_type": "code",
   "execution_count": 152,
   "metadata": {
    "scrolled": true
   },
   "outputs": [
    {
     "name": "stdout",
     "output_type": "stream",
     "text": [
      "   carrier  avg_arr_delay\n",
      "10      OO          60.60\n",
      "15      YV          51.08\n",
      "0       9E          49.27\n",
      "5       EV          48.27\n",
      "6       F9          47.58\n",
      "13      VX          43.85\n",
      "7       FL          41.09\n",
      "14      WN          40.75\n",
      "3       B6          40.01\n",
      "1       AA          38.27\n",
      "9       MQ          37.85\n",
      "4       DL          37.74\n",
      "11      UA          36.65\n",
      "8       HA          35.03\n",
      "2       AS          34.37\n",
      "12      US          29.01\n"
     ]
    }
   ],
   "source": [
    "tot_carr_ad=pd.concat([grouped_carr_arrdel1,grouped_carr_arrdel2],axis=1)\n",
    "tot_carr_ad['avg_arr_delay']=round(grouped_carr_arrdel2.arr_delay/grouped_carr_arrdel1.arr_delay,2)\n",
    "fin_carr_ad=tot_carr_ad[['carrier','avg_arr_delay']].sort_values(\"avg_arr_delay\",ascending=False)\n",
    "print(fin_carr_ad)"
   ]
  },
  {
   "cell_type": "markdown",
   "metadata": {},
   "source": [
    "# The OO carrier has the maximum average arrival delays and US the least"
   ]
  },
  {
   "cell_type": "code",
   "execution_count": 153,
   "metadata": {
    "scrolled": false
   },
   "outputs": [
    {
     "data": {
      "image/png": "[encoded data removed]",
      "text/plain": [
       "<Figure size 432x288 with 1 Axes>"
      ]
     },
     "metadata": {
      "needs_background": "light"
     },
     "output_type": "display_data"
    }
   ],
   "source": [
    "plt.title(\"Carrier v/s average arrival delay of flight\")\n",
    "plt.bar(x=np.arange(1,17),height=fin_carr_ad['avg_arr_delay'])\n",
    "plt.xticks(np.arange(1,17), fin_carr_ad['carrier'], rotation=90)\n",
    "plt.xlabel(\"Carrier\")\n",
    "plt.ylabel(\"Average Arrival Delay\")\n",
    "plt.show()"
   ]
  },
  {
   "cell_type": "markdown",
   "metadata": {},
   "source": [
    "# Visualisation 3: Carrier vs Average Departure Delay"
   ]
  },
  {
   "cell_type": "markdown",
   "metadata": {},
   "source": [
    "All the delays that are positive are considered, as it indicated that the flights took off late.\n",
    "The delayed departures are averaged per carrier."
   ]
  },
  {
   "cell_type": "code",
   "execution_count": 154,
   "metadata": {
    "scrolled": true
   },
   "outputs": [
    {
     "name": "stdout",
     "output_type": "stream",
     "text": [
      "    dep_delay\n",
      "0        6980\n",
      "1       10105\n",
      "2         225\n",
      "3       21372\n",
      "4       15186\n",
      "5       22976\n",
      "6         340\n",
      "7        1647\n",
      "8          69\n",
      "9        7966\n",
      "10          9\n",
      "11      27125\n",
      "12       4762\n",
      "13       2216\n",
      "14       6535\n",
      "15        232\n",
      "   carrier  dep_delay\n",
      "0       9E   338348.0\n",
      "1       AA   375528.0\n",
      "2       AS     7082.0\n",
      "3       B6   848677.0\n",
      "4       DL   566960.0\n",
      "5       EV  1153276.0\n",
      "6       F9    15362.0\n",
      "7       FL    66909.0\n",
      "8       HA     3094.0\n",
      "9       MQ   356425.0\n",
      "10      OO      522.0\n",
      "11      UA   808059.0\n",
      "12      US   156758.0\n",
      "13      VX    75857.0\n",
      "14      WN   227268.0\n",
      "15      YV    12266.0\n"
     ]
    }
   ],
   "source": [
    "carr_dep_delay=dataset.loc[dataset['dep_delay'] > 0]\n",
    "carr_dep_delay= carr_dep_delay[['carrier','dep_delay']]\n",
    "grouped_carr_depdel1=carr_dep_delay.groupby([\"carrier\"])['dep_delay'].count().reset_index()\n",
    "grouped_carr_depdel1=grouped_carr_depdel1.drop(\"carrier\",axis=1)\n",
    "grouped_carr_depdel2=carr_dep_delay.groupby([\"carrier\"])['dep_delay'].sum().reset_index()\n",
    "print(grouped_carr_depdel1)\n",
    "print(grouped_carr_depdel2)"
   ]
  },
  {
   "cell_type": "code",
   "execution_count": 155,
   "metadata": {
    "scrolled": true
   },
   "outputs": [
    {
     "name": "stdout",
     "output_type": "stream",
     "text": [
      "   carrier  avg_dep_delay\n",
      "10      OO          58.00\n",
      "15      YV          52.87\n",
      "5       EV          50.19\n",
      "0       9E          48.47\n",
      "6       F9          45.18\n",
      "8       HA          44.84\n",
      "9       MQ          44.74\n",
      "7       FL          40.62\n",
      "3       B6          39.71\n",
      "4       DL          37.33\n",
      "1       AA          37.16\n",
      "14      WN          34.78\n",
      "13      VX          34.23\n",
      "12      US          32.92\n",
      "2       AS          31.48\n",
      "11      UA          29.79\n"
     ]
    }
   ],
   "source": [
    "tot_carr_dd=pd.concat([grouped_carr_depdel1,grouped_carr_depdel2],axis=1)\n",
    "tot_carr_dd['avg_dep_delay']=round(grouped_carr_depdel2.dep_delay/grouped_carr_depdel1.dep_delay,2)\n",
    "fin_carr_dd=tot_carr_dd[['carrier','avg_dep_delay']].sort_values(\"avg_dep_delay\",ascending=False)\n",
    "print(fin_carr_dd)"
   ]
  },
  {
   "cell_type": "markdown",
   "metadata": {},
   "source": [
    "# The OO carrier has the maximum average arrival delays and UA the least"
   ]
  },
  {
   "cell_type": "code",
   "execution_count": 156,
   "metadata": {
    "scrolled": true
   },
   "outputs": [
    {
     "data": {
      "image/png": "[encoded data removed]",
      "text/plain": [
       "<Figure size 432x288 with 1 Axes>"
      ]
     },
     "metadata": {
      "needs_background": "light"
     },
     "output_type": "display_data"
    }
   ],
   "source": [
    "plt.title(\"Carrier v/s Average departure delay of flight\")\n",
    "plt.bar(x=np.arange(1,17),height=fin_carr_dd['avg_dep_delay'])\n",
    "plt.xticks(np.arange(1,17), fin_carr_dd['carrier'], rotation=90)\n",
    "plt.xlabel(\"Carrier\")\n",
    "plt.ylabel(\"Average Departure Delay\")\n",
    "plt.show()"
   ]
  },
  {
   "cell_type": "markdown",
   "metadata": {},
   "source": [
    "# Visualisation 4: Carrier vs Average Distance"
   ]
  },
  {
   "cell_type": "markdown",
   "metadata": {},
   "source": [
    "This visualisation displays the average distance covered by each carrier in the year 2013"
   ]
  },
  {
   "cell_type": "code",
   "execution_count": 157,
   "metadata": {},
   "outputs": [
    {
     "name": "stdout",
     "output_type": "stream",
     "text": [
      "    distance\n",
      "0      17294\n",
      "1      31947\n",
      "2        709\n",
      "3      54049\n",
      "4      47658\n",
      "5      51108\n",
      "6        681\n",
      "7       3175\n",
      "8        342\n",
      "9      25037\n",
      "10        29\n",
      "11     57782\n",
      "12     19831\n",
      "13      5116\n",
      "14     12044\n",
      "15       544\n",
      "   carrier  distance\n",
      "0       9E   9163911\n",
      "1       AA  42913762\n",
      "2       AS   1703018\n",
      "3       B6  57815654\n",
      "4       DL  58999610\n",
      "5       EV  28766906\n",
      "6       F9   1103220\n",
      "7       FL   2110700\n",
      "8       HA   1704186\n",
      "9       MQ  14280468\n",
      "10      OO     14769\n",
      "11      UA  88482811\n",
      "12      US  11121739\n",
      "13      VX  12787097\n",
      "14      WN  12007523\n",
      "15      YV    204782\n"
     ]
    }
   ],
   "source": [
    "carr_dist= dataset[['carrier','distance']]\n",
    "grouped_carr_dist1=carr_dist.groupby([\"carrier\"])['distance'].count().reset_index()\n",
    "grouped_carr_dist1=grouped_carr_dist1.drop(\"carrier\",axis=1)\n",
    "grouped_carr_dist2=carr_dist.groupby([\"carrier\"])['distance'].sum().reset_index()\n",
    "print(grouped_carr_dist1)\n",
    "print(grouped_carr_dist2)"
   ]
  },
  {
   "cell_type": "code",
   "execution_count": 158,
   "metadata": {
    "scrolled": true
   },
   "outputs": [
    {
     "name": "stdout",
     "output_type": "stream",
     "text": [
      "   carrier  avg_dist\n",
      "8       HA   4983.00\n",
      "13      VX   2499.43\n",
      "2       AS   2402.00\n",
      "6       F9   1620.00\n",
      "11      UA   1531.32\n",
      "1       AA   1343.28\n",
      "4       DL   1237.98\n",
      "3       B6   1069.69\n",
      "14      WN    996.97\n",
      "7       FL    664.79\n",
      "9       MQ    570.37\n",
      "5       EV    562.87\n",
      "12      US    560.83\n",
      "0       9E    529.89\n",
      "10      OO    509.28\n",
      "15      YV    376.44\n"
     ]
    }
   ],
   "source": [
    "tot_carr_dist=pd.concat([grouped_carr_dist1,grouped_carr_dist2],axis=1)\n",
    "tot_carr_dist['avg_dist']=round(grouped_carr_dist2.distance/grouped_carr_dist1.distance,2)\n",
    "fin_carr_dist=tot_carr_dist[['carrier','avg_dist']].sort_values(\"avg_dist\",ascending=False)\n",
    "print(fin_carr_dist)"
   ]
  },
  {
   "cell_type": "code",
   "execution_count": 159,
   "metadata": {
    "scrolled": true
   },
   "outputs": [
    {
     "data": {
      "image/png": "[encoded data removed]",
      "text/plain": [
       "<Figure size 432x288 with 1 Axes>"
      ]
     },
     "metadata": {
      "needs_background": "light"
     },
     "output_type": "display_data"
    }
   ],
   "source": [
    "plt.title(\"Carrier v/s Average distance\")\n",
    "plt.bar(x=np.arange(1,17),height=fin_carr_dist['avg_dist'])\n",
    "plt.xticks(np.arange(1,17), fin_carr_dd['carrier'], rotation=90)\n",
    "plt.xlabel(\"Carrier\")\n",
    "plt.ylabel(\"Average Distance\")\n",
    "plt.show()"
   ]
  },
  {
   "cell_type": "markdown",
   "metadata": {},
   "source": [
    "# Visualisation 5: Carrier v/s early arrival"
   ]
  },
  {
   "cell_type": "markdown",
   "metadata": {},
   "source": [
    "All the delays that are negative are considered, as it indicated that the flights arrived early.\n",
    "The early arrivals are averaged per carrier."
   ]
  },
  {
   "cell_type": "code",
   "execution_count": 160,
   "metadata": {
    "scrolled": true
   },
   "outputs": [
    {
     "name": "stdout",
     "output_type": "stream",
     "text": [
      "    arr_delay\n",
      "0       10430\n",
      "1       20769\n",
      "2         512\n",
      "3       29514\n",
      "4       30463\n",
      "5       25823\n",
      "6         271\n",
      "7        1211\n",
      "8         241\n",
      "9       12856\n",
      "10         19\n",
      "11      34642\n",
      "12      12113\n",
      "13       3276\n",
      "14       6513\n",
      "15        280\n",
      "   carrier  arr_delay\n",
      "0       9E  -199399.0\n",
      "1       AA  -398033.0\n",
      "2       AS   -13536.0\n",
      "3       B6  -433380.0\n",
      "4       DL  -541119.0\n",
      "5       EV  -374484.0\n",
      "6       F9    -3723.0\n",
      "7       FL   -14006.0\n",
      "8       HA    -5763.0\n",
      "9       MQ  -172837.0\n",
      "10      OO     -260.0\n",
      "11      UA  -608869.0\n",
      "12      US  -170974.0\n",
      "13      VX   -67530.0\n",
      "14      WN   -99911.0\n",
      "15      YV    -4716.0\n"
     ]
    }
   ],
   "source": [
    "carr_early_arr=dataset.loc[dataset['arr_delay'] < 0]\n",
    "carr_early_arr= carr_early_arr[['carrier','arr_delay']]\n",
    "grouped_carr_earlarr1=carr_early_arr.groupby([\"carrier\"])['arr_delay'].count().reset_index()\n",
    "grouped_carr_earlarr1=grouped_carr_earlarr1.drop(\"carrier\",axis=1)\n",
    "grouped_carr_earlarr2=carr_early_arr.groupby([\"carrier\"])['arr_delay'].sum().reset_index()\n",
    "print(grouped_carr_earlarr1)\n",
    "print(grouped_carr_earlarr2)"
   ]
  },
  {
   "cell_type": "code",
   "execution_count": 161,
   "metadata": {
    "scrolled": true
   },
   "outputs": [
    {
     "name": "stdout",
     "output_type": "stream",
     "text": [
      "   carrier  avg_early_arr\n",
      "7       FL         -11.57\n",
      "9       MQ         -13.44\n",
      "10      OO         -13.68\n",
      "6       F9         -13.74\n",
      "12      US         -14.11\n",
      "5       EV         -14.50\n",
      "3       B6         -14.68\n",
      "14      WN         -15.34\n",
      "15      YV         -16.84\n",
      "11      UA         -17.58\n",
      "4       DL         -17.76\n",
      "0       9E         -19.12\n",
      "1       AA         -19.16\n",
      "13      VX         -20.61\n",
      "8       HA         -23.91\n",
      "2       AS         -26.44\n"
     ]
    }
   ],
   "source": [
    "tot_carr_earlyarr=pd.concat([grouped_carr_earlarr1,grouped_carr_earlarr2],axis=1)\n",
    "tot_carr_earlyarr['avg_early_arr']=round(grouped_carr_earlarr2.arr_delay/grouped_carr_earlarr1.arr_delay,2)\n",
    "fin_carr_earl_arr=tot_carr_earlyarr[['carrier','avg_early_arr']].sort_values(\"avg_early_arr\",ascending=False)\n",
    "print(fin_carr_earl_arr)"
   ]
  },
  {
   "cell_type": "markdown",
   "metadata": {},
   "source": [
    "# AS was the carrier that arrived before time most of the time"
   ]
  },
  {
   "cell_type": "code",
   "execution_count": 162,
   "metadata": {},
   "outputs": [
    {
     "data": {
      "image/png": "[encoded data removed]",
      "text/plain": [
       "<Figure size 432x288 with 1 Axes>"
      ]
     },
     "metadata": {
      "needs_background": "light"
     },
     "output_type": "display_data"
    }
   ],
   "source": [
    "plt.title(\"Carrier v/s Average Early Arrival\")\n",
    "plt.bar(x=np.arange(1,17),height=fin_carr_earl_arr['avg_early_arr'])\n",
    "plt.xticks(np.arange(1,17), fin_carr_earl_arr['carrier'], rotation=90)\n",
    "plt.xlabel(\"Carrier\")\n",
    "plt.ylabel(\"Average Early Arrival\")\n",
    "plt.show()"
   ]
  },
  {
   "cell_type": "markdown",
   "metadata": {},
   "source": [
    "# Task 3"
   ]
  },
  {
   "cell_type": "markdown",
   "metadata": {},
   "source": [
    "A new dataset pop_data is created that contains only the information for DL and UA.\n",
    "The data is arranged in descending order of the arrivl delay"
   ]
  },
  {
   "cell_type": "code",
   "execution_count": 163,
   "metadata": {
    "scrolled": false
   },
   "outputs": [
    {
     "data": {
      "text/html": [
       "<div>\n",
       "<style scoped>\n",
       "    .dataframe tbody tr th:only-of-type {\n",
       "        vertical-align: middle;\n",
       "    }\n",
       "\n",
       "    .dataframe tbody tr th {\n",
       "        vertical-align: top;\n",
       "    }\n",
       "\n",
       "    .dataframe thead th {\n",
       "        text-align: right;\n",
       "    }\n",
       "</style>\n",
       "<table border=\"1\" class=\"dataframe\">\n",
       "  <thead>\n",
       "    <tr style=\"text-align: right;\">\n",
       "      <th></th>\n",
       "      <th>carrier</th>\n",
       "      <th>arr_delay</th>\n",
       "    </tr>\n",
       "  </thead>\n",
       "  <tbody>\n",
       "    <tr>\n",
       "      <th>169363</th>\n",
       "      <td>DL</td>\n",
       "      <td>931.0</td>\n",
       "    </tr>\n",
       "    <tr>\n",
       "      <th>147683</th>\n",
       "      <td>DL</td>\n",
       "      <td>915.0</td>\n",
       "    </tr>\n",
       "    <tr>\n",
       "      <th>263091</th>\n",
       "      <td>DL</td>\n",
       "      <td>895.0</td>\n",
       "    </tr>\n",
       "    <tr>\n",
       "      <th>93707</th>\n",
       "      <td>DL</td>\n",
       "      <td>856.0</td>\n",
       "    </tr>\n",
       "    <tr>\n",
       "      <th>240226</th>\n",
       "      <td>DL</td>\n",
       "      <td>850.0</td>\n",
       "    </tr>\n",
       "    <tr>\n",
       "      <th>...</th>\n",
       "      <td>...</td>\n",
       "      <td>...</td>\n",
       "    </tr>\n",
       "    <tr>\n",
       "      <th>199595</th>\n",
       "      <td>UA</td>\n",
       "      <td>-70.0</td>\n",
       "    </tr>\n",
       "    <tr>\n",
       "      <th>194505</th>\n",
       "      <td>UA</td>\n",
       "      <td>-71.0</td>\n",
       "    </tr>\n",
       "    <tr>\n",
       "      <th>193359</th>\n",
       "      <td>DL</td>\n",
       "      <td>-71.0</td>\n",
       "    </tr>\n",
       "    <tr>\n",
       "      <th>189882</th>\n",
       "      <td>UA</td>\n",
       "      <td>-73.0</td>\n",
       "    </tr>\n",
       "    <tr>\n",
       "      <th>189900</th>\n",
       "      <td>UA</td>\n",
       "      <td>-75.0</td>\n",
       "    </tr>\n",
       "  </tbody>\n",
       "</table>\n",
       "<p>105440 rows × 2 columns</p>\n",
       "</div>"
      ],
      "text/plain": [
       "       carrier  arr_delay\n",
       "169363      DL      931.0\n",
       "147683      DL      915.0\n",
       "263091      DL      895.0\n",
       "93707       DL      856.0\n",
       "240226      DL      850.0\n",
       "...        ...        ...\n",
       "199595      UA      -70.0\n",
       "194505      UA      -71.0\n",
       "193359      DL      -71.0\n",
       "189882      UA      -73.0\n",
       "189900      UA      -75.0\n",
       "\n",
       "[105440 rows x 2 columns]"
      ]
     },
     "execution_count": 163,
     "metadata": {},
     "output_type": "execute_result"
    }
   ],
   "source": [
    "pop_data=dataset[(dataset.carrier=='DL') | (dataset.carrier=='UA')]\n",
    "pop_data=pop_data[['carrier','arr_delay']].sort_values(\"arr_delay\",ascending=False)\n",
    "pop_data"
   ]
  },
  {
   "cell_type": "markdown",
   "metadata": {},
   "source": [
    "The pop_data is filtered for the flights that arrived late for more than 3 hours of their scheduled time.\n",
    "We have cosidered 3 hour as the threshold for the late arrivals"
   ]
  },
  {
   "cell_type": "code",
   "execution_count": 164,
   "metadata": {},
   "outputs": [],
   "source": [
    "#Filtering the carriers for delays more than 3 hours \n",
    "pop_data=pop_data.loc[pop_data['arr_delay'] > 3]"
   ]
  },
  {
   "cell_type": "code",
   "execution_count": 165,
   "metadata": {},
   "outputs": [
    {
     "data": {
      "text/html": [
       "<div>\n",
       "<style scoped>\n",
       "    .dataframe tbody tr th:only-of-type {\n",
       "        vertical-align: middle;\n",
       "    }\n",
       "\n",
       "    .dataframe tbody tr th {\n",
       "        vertical-align: top;\n",
       "    }\n",
       "\n",
       "    .dataframe thead th {\n",
       "        text-align: right;\n",
       "    }\n",
       "</style>\n",
       "<table border=\"1\" class=\"dataframe\">\n",
       "  <thead>\n",
       "    <tr style=\"text-align: right;\">\n",
       "      <th></th>\n",
       "      <th>carrier</th>\n",
       "      <th>arr_delay</th>\n",
       "    </tr>\n",
       "  </thead>\n",
       "  <tbody>\n",
       "    <tr>\n",
       "      <th>169363</th>\n",
       "      <td>DL</td>\n",
       "      <td>931.0</td>\n",
       "    </tr>\n",
       "    <tr>\n",
       "      <th>147683</th>\n",
       "      <td>DL</td>\n",
       "      <td>915.0</td>\n",
       "    </tr>\n",
       "    <tr>\n",
       "      <th>263091</th>\n",
       "      <td>DL</td>\n",
       "      <td>895.0</td>\n",
       "    </tr>\n",
       "    <tr>\n",
       "      <th>93707</th>\n",
       "      <td>DL</td>\n",
       "      <td>856.0</td>\n",
       "    </tr>\n",
       "    <tr>\n",
       "      <th>240226</th>\n",
       "      <td>DL</td>\n",
       "      <td>850.0</td>\n",
       "    </tr>\n",
       "    <tr>\n",
       "      <th>...</th>\n",
       "      <td>...</td>\n",
       "      <td>...</td>\n",
       "    </tr>\n",
       "    <tr>\n",
       "      <th>76719</th>\n",
       "      <td>UA</td>\n",
       "      <td>4.0</td>\n",
       "    </tr>\n",
       "    <tr>\n",
       "      <th>208665</th>\n",
       "      <td>UA</td>\n",
       "      <td>4.0</td>\n",
       "    </tr>\n",
       "    <tr>\n",
       "      <th>149703</th>\n",
       "      <td>DL</td>\n",
       "      <td>4.0</td>\n",
       "    </tr>\n",
       "    <tr>\n",
       "      <th>12021</th>\n",
       "      <td>UA</td>\n",
       "      <td>4.0</td>\n",
       "    </tr>\n",
       "    <tr>\n",
       "      <th>193735</th>\n",
       "      <td>UA</td>\n",
       "      <td>4.0</td>\n",
       "    </tr>\n",
       "  </tbody>\n",
       "</table>\n",
       "<p>34101 rows × 2 columns</p>\n",
       "</div>"
      ],
      "text/plain": [
       "       carrier  arr_delay\n",
       "169363      DL      931.0\n",
       "147683      DL      915.0\n",
       "263091      DL      895.0\n",
       "93707       DL      856.0\n",
       "240226      DL      850.0\n",
       "...        ...        ...\n",
       "76719       UA        4.0\n",
       "208665      UA        4.0\n",
       "149703      DL        4.0\n",
       "12021       UA        4.0\n",
       "193735      UA        4.0\n",
       "\n",
       "[34101 rows x 2 columns]"
      ]
     },
     "execution_count": 165,
     "metadata": {},
     "output_type": "execute_result"
    }
   ],
   "source": [
    "pop_data1=pop_data.groupby(\"carrier\")[\"arr_delay\"].count()\n",
    "pop_data"
   ]
  },
  {
   "cell_type": "code",
   "execution_count": 166,
   "metadata": {},
   "outputs": [
    {
     "data": {
      "text/plain": [
       "carrier\n",
       "DL    14379\n",
       "UA    19722\n",
       "Name: arr_delay, dtype: int64"
      ]
     },
     "execution_count": 166,
     "metadata": {},
     "output_type": "execute_result"
    }
   ],
   "source": [
    "pop_data1"
   ]
  },
  {
   "cell_type": "markdown",
   "metadata": {},
   "source": [
    "# Task 4"
   ]
  },
  {
   "cell_type": "markdown",
   "metadata": {},
   "source": [
    "The dataset dl containst the details of the delayed flights with the carrier DL and are labeled with Sample ID 1 "
   ]
  },
  {
   "cell_type": "code",
   "execution_count": 167,
   "metadata": {},
   "outputs": [
    {
     "data": {
      "text/html": [
       "<div>\n",
       "<style scoped>\n",
       "    .dataframe tbody tr th:only-of-type {\n",
       "        vertical-align: middle;\n",
       "    }\n",
       "\n",
       "    .dataframe tbody tr th {\n",
       "        vertical-align: top;\n",
       "    }\n",
       "\n",
       "    .dataframe thead th {\n",
       "        text-align: right;\n",
       "    }\n",
       "</style>\n",
       "<table border=\"1\" class=\"dataframe\">\n",
       "  <thead>\n",
       "    <tr style=\"text-align: right;\">\n",
       "      <th></th>\n",
       "      <th>carrier</th>\n",
       "      <th>arr_delay</th>\n",
       "      <th>Sample_id</th>\n",
       "    </tr>\n",
       "  </thead>\n",
       "  <tbody>\n",
       "    <tr>\n",
       "      <th>169363</th>\n",
       "      <td>DL</td>\n",
       "      <td>931.0</td>\n",
       "      <td>1</td>\n",
       "    </tr>\n",
       "    <tr>\n",
       "      <th>147683</th>\n",
       "      <td>DL</td>\n",
       "      <td>915.0</td>\n",
       "      <td>1</td>\n",
       "    </tr>\n",
       "    <tr>\n",
       "      <th>263091</th>\n",
       "      <td>DL</td>\n",
       "      <td>895.0</td>\n",
       "      <td>1</td>\n",
       "    </tr>\n",
       "    <tr>\n",
       "      <th>93707</th>\n",
       "      <td>DL</td>\n",
       "      <td>856.0</td>\n",
       "      <td>1</td>\n",
       "    </tr>\n",
       "    <tr>\n",
       "      <th>240226</th>\n",
       "      <td>DL</td>\n",
       "      <td>850.0</td>\n",
       "      <td>1</td>\n",
       "    </tr>\n",
       "    <tr>\n",
       "      <th>...</th>\n",
       "      <td>...</td>\n",
       "      <td>...</td>\n",
       "      <td>...</td>\n",
       "    </tr>\n",
       "    <tr>\n",
       "      <th>90223</th>\n",
       "      <td>DL</td>\n",
       "      <td>129.0</td>\n",
       "      <td>1</td>\n",
       "    </tr>\n",
       "    <tr>\n",
       "      <th>241458</th>\n",
       "      <td>DL</td>\n",
       "      <td>129.0</td>\n",
       "      <td>1</td>\n",
       "    </tr>\n",
       "    <tr>\n",
       "      <th>240734</th>\n",
       "      <td>DL</td>\n",
       "      <td>129.0</td>\n",
       "      <td>1</td>\n",
       "    </tr>\n",
       "    <tr>\n",
       "      <th>197927</th>\n",
       "      <td>DL</td>\n",
       "      <td>129.0</td>\n",
       "      <td>1</td>\n",
       "    </tr>\n",
       "    <tr>\n",
       "      <th>197892</th>\n",
       "      <td>DL</td>\n",
       "      <td>129.0</td>\n",
       "      <td>1</td>\n",
       "    </tr>\n",
       "  </tbody>\n",
       "</table>\n",
       "<p>1000 rows × 3 columns</p>\n",
       "</div>"
      ],
      "text/plain": [
       "       carrier  arr_delay  Sample_id\n",
       "169363      DL      931.0          1\n",
       "147683      DL      915.0          1\n",
       "263091      DL      895.0          1\n",
       "93707       DL      856.0          1\n",
       "240226      DL      850.0          1\n",
       "...        ...        ...        ...\n",
       "90223       DL      129.0          1\n",
       "241458      DL      129.0          1\n",
       "240734      DL      129.0          1\n",
       "197927      DL      129.0          1\n",
       "197892      DL      129.0          1\n",
       "\n",
       "[1000 rows x 3 columns]"
      ]
     },
     "execution_count": 167,
     "metadata": {},
     "output_type": "execute_result"
    }
   ],
   "source": [
    "dl=pop_data[(pop_data.carrier=='DL')]\n",
    "dl=dl.head(1000)\n",
    "dl['Sample_id']=1\n",
    "dl"
   ]
  },
  {
   "cell_type": "markdown",
   "metadata": {},
   "source": [
    "The dataset ua containst the details of the delayed flights with the carrier UA and are labeled with Sample ID 2"
   ]
  },
  {
   "cell_type": "code",
   "execution_count": 168,
   "metadata": {
    "scrolled": true
   },
   "outputs": [
    {
     "data": {
      "text/html": [
       "<div>\n",
       "<style scoped>\n",
       "    .dataframe tbody tr th:only-of-type {\n",
       "        vertical-align: middle;\n",
       "    }\n",
       "\n",
       "    .dataframe tbody tr th {\n",
       "        vertical-align: top;\n",
       "    }\n",
       "\n",
       "    .dataframe thead th {\n",
       "        text-align: right;\n",
       "    }\n",
       "</style>\n",
       "<table border=\"1\" class=\"dataframe\">\n",
       "  <thead>\n",
       "    <tr style=\"text-align: right;\">\n",
       "      <th></th>\n",
       "      <th>carrier</th>\n",
       "      <th>arr_delay</th>\n",
       "      <th>Sample_id</th>\n",
       "    </tr>\n",
       "  </thead>\n",
       "  <tbody>\n",
       "    <tr>\n",
       "      <th>266959</th>\n",
       "      <td>UA</td>\n",
       "      <td>455.0</td>\n",
       "      <td>2</td>\n",
       "    </tr>\n",
       "    <tr>\n",
       "      <th>177170</th>\n",
       "      <td>UA</td>\n",
       "      <td>435.0</td>\n",
       "      <td>2</td>\n",
       "    </tr>\n",
       "    <tr>\n",
       "      <th>238611</th>\n",
       "      <td>UA</td>\n",
       "      <td>424.0</td>\n",
       "      <td>2</td>\n",
       "    </tr>\n",
       "    <tr>\n",
       "      <th>88192</th>\n",
       "      <td>UA</td>\n",
       "      <td>422.0</td>\n",
       "      <td>2</td>\n",
       "    </tr>\n",
       "    <tr>\n",
       "      <th>251917</th>\n",
       "      <td>UA</td>\n",
       "      <td>414.0</td>\n",
       "      <td>2</td>\n",
       "    </tr>\n",
       "    <tr>\n",
       "      <th>...</th>\n",
       "      <td>...</td>\n",
       "      <td>...</td>\n",
       "      <td>...</td>\n",
       "    </tr>\n",
       "    <tr>\n",
       "      <th>117291</th>\n",
       "      <td>UA</td>\n",
       "      <td>141.0</td>\n",
       "      <td>2</td>\n",
       "    </tr>\n",
       "    <tr>\n",
       "      <th>243610</th>\n",
       "      <td>UA</td>\n",
       "      <td>141.0</td>\n",
       "      <td>2</td>\n",
       "    </tr>\n",
       "    <tr>\n",
       "      <th>169319</th>\n",
       "      <td>UA</td>\n",
       "      <td>141.0</td>\n",
       "      <td>2</td>\n",
       "    </tr>\n",
       "    <tr>\n",
       "      <th>172405</th>\n",
       "      <td>UA</td>\n",
       "      <td>141.0</td>\n",
       "      <td>2</td>\n",
       "    </tr>\n",
       "    <tr>\n",
       "      <th>236245</th>\n",
       "      <td>UA</td>\n",
       "      <td>141.0</td>\n",
       "      <td>2</td>\n",
       "    </tr>\n",
       "  </tbody>\n",
       "</table>\n",
       "<p>1000 rows × 3 columns</p>\n",
       "</div>"
      ],
      "text/plain": [
       "       carrier  arr_delay  Sample_id\n",
       "266959      UA      455.0          2\n",
       "177170      UA      435.0          2\n",
       "238611      UA      424.0          2\n",
       "88192       UA      422.0          2\n",
       "251917      UA      414.0          2\n",
       "...        ...        ...        ...\n",
       "117291      UA      141.0          2\n",
       "243610      UA      141.0          2\n",
       "169319      UA      141.0          2\n",
       "172405      UA      141.0          2\n",
       "236245      UA      141.0          2\n",
       "\n",
       "[1000 rows x 3 columns]"
      ]
     },
     "execution_count": 168,
     "metadata": {},
     "output_type": "execute_result"
    }
   ],
   "source": [
    "ua=pop_data[(pop_data.carrier=='UA')]\n",
    "ua=ua.head(1000)\n",
    "ua['Sample_id']=2\n",
    "ua"
   ]
  },
  {
   "cell_type": "markdown",
   "metadata": {},
   "source": [
    "# Task 5"
   ]
  },
  {
   "cell_type": "markdown",
   "metadata": {},
   "source": [
    "Both dl and ua are concatenate and arranged in descending order of their delayed arrival"
   ]
  },
  {
   "cell_type": "code",
   "execution_count": 169,
   "metadata": {},
   "outputs": [
    {
     "data": {
      "text/html": [
       "<div>\n",
       "<style scoped>\n",
       "    .dataframe tbody tr th:only-of-type {\n",
       "        vertical-align: middle;\n",
       "    }\n",
       "\n",
       "    .dataframe tbody tr th {\n",
       "        vertical-align: top;\n",
       "    }\n",
       "\n",
       "    .dataframe thead th {\n",
       "        text-align: right;\n",
       "    }\n",
       "</style>\n",
       "<table border=\"1\" class=\"dataframe\">\n",
       "  <thead>\n",
       "    <tr style=\"text-align: right;\">\n",
       "      <th></th>\n",
       "      <th>carrier</th>\n",
       "      <th>arr_delay</th>\n",
       "      <th>Sample_id</th>\n",
       "    </tr>\n",
       "  </thead>\n",
       "  <tbody>\n",
       "    <tr>\n",
       "      <th>169363</th>\n",
       "      <td>DL</td>\n",
       "      <td>931.0</td>\n",
       "      <td>1</td>\n",
       "    </tr>\n",
       "    <tr>\n",
       "      <th>147683</th>\n",
       "      <td>DL</td>\n",
       "      <td>915.0</td>\n",
       "      <td>1</td>\n",
       "    </tr>\n",
       "    <tr>\n",
       "      <th>263091</th>\n",
       "      <td>DL</td>\n",
       "      <td>895.0</td>\n",
       "      <td>1</td>\n",
       "    </tr>\n",
       "    <tr>\n",
       "      <th>93707</th>\n",
       "      <td>DL</td>\n",
       "      <td>856.0</td>\n",
       "      <td>1</td>\n",
       "    </tr>\n",
       "    <tr>\n",
       "      <th>240226</th>\n",
       "      <td>DL</td>\n",
       "      <td>850.0</td>\n",
       "      <td>1</td>\n",
       "    </tr>\n",
       "    <tr>\n",
       "      <th>...</th>\n",
       "      <td>...</td>\n",
       "      <td>...</td>\n",
       "      <td>...</td>\n",
       "    </tr>\n",
       "    <tr>\n",
       "      <th>139246</th>\n",
       "      <td>DL</td>\n",
       "      <td>129.0</td>\n",
       "      <td>1</td>\n",
       "    </tr>\n",
       "    <tr>\n",
       "      <th>249134</th>\n",
       "      <td>DL</td>\n",
       "      <td>129.0</td>\n",
       "      <td>1</td>\n",
       "    </tr>\n",
       "    <tr>\n",
       "      <th>89003</th>\n",
       "      <td>DL</td>\n",
       "      <td>129.0</td>\n",
       "      <td>1</td>\n",
       "    </tr>\n",
       "    <tr>\n",
       "      <th>171364</th>\n",
       "      <td>DL</td>\n",
       "      <td>129.0</td>\n",
       "      <td>1</td>\n",
       "    </tr>\n",
       "    <tr>\n",
       "      <th>197892</th>\n",
       "      <td>DL</td>\n",
       "      <td>129.0</td>\n",
       "      <td>1</td>\n",
       "    </tr>\n",
       "  </tbody>\n",
       "</table>\n",
       "<p>2000 rows × 3 columns</p>\n",
       "</div>"
      ],
      "text/plain": [
       "       carrier  arr_delay  Sample_id\n",
       "169363      DL      931.0          1\n",
       "147683      DL      915.0          1\n",
       "263091      DL      895.0          1\n",
       "93707       DL      856.0          1\n",
       "240226      DL      850.0          1\n",
       "...        ...        ...        ...\n",
       "139246      DL      129.0          1\n",
       "249134      DL      129.0          1\n",
       "89003       DL      129.0          1\n",
       "171364      DL      129.0          1\n",
       "197892      DL      129.0          1\n",
       "\n",
       "[2000 rows x 3 columns]"
      ]
     },
     "execution_count": 169,
     "metadata": {},
     "output_type": "execute_result"
    }
   ],
   "source": [
    "frames=[ua,dl]\n",
    "sample = pd.concat(frames)\n",
    "sample= sample[['carrier','arr_delay','Sample_id']].sort_values(\"arr_delay\",ascending=False)\n",
    "sample"
   ]
  },
  {
   "cell_type": "code",
   "execution_count": 170,
   "metadata": {
    "scrolled": false
   },
   "outputs": [
    {
     "data": {
      "text/html": [
       "<div>\n",
       "<style scoped>\n",
       "    .dataframe tbody tr th:only-of-type {\n",
       "        vertical-align: middle;\n",
       "    }\n",
       "\n",
       "    .dataframe tbody tr th {\n",
       "        vertical-align: top;\n",
       "    }\n",
       "\n",
       "    .dataframe thead th {\n",
       "        text-align: right;\n",
       "    }\n",
       "</style>\n",
       "<table border=\"1\" class=\"dataframe\">\n",
       "  <thead>\n",
       "    <tr style=\"text-align: right;\">\n",
       "      <th></th>\n",
       "      <th>arr_delay</th>\n",
       "      <th>Sample_id</th>\n",
       "    </tr>\n",
       "  </thead>\n",
       "  <tbody>\n",
       "    <tr>\n",
       "      <th>count</th>\n",
       "      <td>1000.000000</td>\n",
       "      <td>1000.0</td>\n",
       "    </tr>\n",
       "    <tr>\n",
       "      <th>mean</th>\n",
       "      <td>214.628000</td>\n",
       "      <td>1.0</td>\n",
       "    </tr>\n",
       "    <tr>\n",
       "      <th>std</th>\n",
       "      <td>109.399542</td>\n",
       "      <td>0.0</td>\n",
       "    </tr>\n",
       "    <tr>\n",
       "      <th>min</th>\n",
       "      <td>129.000000</td>\n",
       "      <td>1.0</td>\n",
       "    </tr>\n",
       "    <tr>\n",
       "      <th>25%</th>\n",
       "      <td>148.000000</td>\n",
       "      <td>1.0</td>\n",
       "    </tr>\n",
       "    <tr>\n",
       "      <th>50%</th>\n",
       "      <td>179.000000</td>\n",
       "      <td>1.0</td>\n",
       "    </tr>\n",
       "    <tr>\n",
       "      <th>75%</th>\n",
       "      <td>240.250000</td>\n",
       "      <td>1.0</td>\n",
       "    </tr>\n",
       "    <tr>\n",
       "      <th>max</th>\n",
       "      <td>931.000000</td>\n",
       "      <td>1.0</td>\n",
       "    </tr>\n",
       "  </tbody>\n",
       "</table>\n",
       "</div>"
      ],
      "text/plain": [
       "         arr_delay  Sample_id\n",
       "count  1000.000000     1000.0\n",
       "mean    214.628000        1.0\n",
       "std     109.399542        0.0\n",
       "min     129.000000        1.0\n",
       "25%     148.000000        1.0\n",
       "50%     179.000000        1.0\n",
       "75%     240.250000        1.0\n",
       "max     931.000000        1.0"
      ]
     },
     "execution_count": 170,
     "metadata": {},
     "output_type": "execute_result"
    }
   ],
   "source": [
    "dl.describe()\n"
   ]
  },
  {
   "cell_type": "code",
   "execution_count": 171,
   "metadata": {},
   "outputs": [
    {
     "data": {
      "text/html": [
       "<div>\n",
       "<style scoped>\n",
       "    .dataframe tbody tr th:only-of-type {\n",
       "        vertical-align: middle;\n",
       "    }\n",
       "\n",
       "    .dataframe tbody tr th {\n",
       "        vertical-align: top;\n",
       "    }\n",
       "\n",
       "    .dataframe thead th {\n",
       "        text-align: right;\n",
       "    }\n",
       "</style>\n",
       "<table border=\"1\" class=\"dataframe\">\n",
       "  <thead>\n",
       "    <tr style=\"text-align: right;\">\n",
       "      <th></th>\n",
       "      <th>arr_delay</th>\n",
       "      <th>Sample_id</th>\n",
       "    </tr>\n",
       "  </thead>\n",
       "  <tbody>\n",
       "    <tr>\n",
       "      <th>count</th>\n",
       "      <td>1000.000000</td>\n",
       "      <td>1000.0</td>\n",
       "    </tr>\n",
       "    <tr>\n",
       "      <th>mean</th>\n",
       "      <td>207.553000</td>\n",
       "      <td>2.0</td>\n",
       "    </tr>\n",
       "    <tr>\n",
       "      <th>std</th>\n",
       "      <td>61.339283</td>\n",
       "      <td>0.0</td>\n",
       "    </tr>\n",
       "    <tr>\n",
       "      <th>min</th>\n",
       "      <td>141.000000</td>\n",
       "      <td>2.0</td>\n",
       "    </tr>\n",
       "    <tr>\n",
       "      <th>25%</th>\n",
       "      <td>160.000000</td>\n",
       "      <td>2.0</td>\n",
       "    </tr>\n",
       "    <tr>\n",
       "      <th>50%</th>\n",
       "      <td>187.000000</td>\n",
       "      <td>2.0</td>\n",
       "    </tr>\n",
       "    <tr>\n",
       "      <th>75%</th>\n",
       "      <td>240.000000</td>\n",
       "      <td>2.0</td>\n",
       "    </tr>\n",
       "    <tr>\n",
       "      <th>max</th>\n",
       "      <td>455.000000</td>\n",
       "      <td>2.0</td>\n",
       "    </tr>\n",
       "  </tbody>\n",
       "</table>\n",
       "</div>"
      ],
      "text/plain": [
       "         arr_delay  Sample_id\n",
       "count  1000.000000     1000.0\n",
       "mean    207.553000        2.0\n",
       "std      61.339283        0.0\n",
       "min     141.000000        2.0\n",
       "25%     160.000000        2.0\n",
       "50%     187.000000        2.0\n",
       "75%     240.000000        2.0\n",
       "max     455.000000        2.0"
      ]
     },
     "execution_count": 171,
     "metadata": {},
     "output_type": "execute_result"
    }
   ],
   "source": [
    "ua.describe()"
   ]
  },
  {
   "cell_type": "markdown",
   "metadata": {},
   "source": [
    "# Task 6"
   ]
  },
  {
   "cell_type": "markdown",
   "metadata": {},
   "source": [
    "Standard error for both dl and ua are calculated by dividing standard deviation of each by square root of their number of observation which 1000"
   ]
  },
  {
   "cell_type": "code",
   "execution_count": 172,
   "metadata": {},
   "outputs": [
    {
     "name": "stdout",
     "output_type": "stream",
     "text": [
      "Standard Error for dl: 3.4595172894315587\n"
     ]
    }
   ],
   "source": [
    "se_dl=dl['arr_delay'].std()/math.sqrt(1000)\n",
    "print(\"Standard Error for dl: {0}\".format(se_dl))"
   ]
  },
  {
   "cell_type": "code",
   "execution_count": 173,
   "metadata": {},
   "outputs": [
    {
     "name": "stdout",
     "output_type": "stream",
     "text": [
      "Standard Error for ua: 1.939718458616792\n"
     ]
    }
   ],
   "source": [
    "se_ua=ua['arr_delay'].std()/math.sqrt(1000)\n",
    "print(\"Standard Error for ua: {0}\".format(se_ua))"
   ]
  },
  {
   "cell_type": "markdown",
   "metadata": {},
   "source": [
    "\n",
    "# Task 7"
   ]
  },
  {
   "cell_type": "markdown",
   "metadata": {},
   "source": [
    "The margin error, upper and lower limit is calculated for both dl and ua"
   ]
  },
  {
   "cell_type": "code",
   "execution_count": 174,
   "metadata": {},
   "outputs": [
    {
     "name": "stdout",
     "output_type": "stream",
     "text": [
      "The metrics for DL are \n",
      "\n",
      "1. Lower Value: 207.84734611271412\n",
      "2. Mean Value: 6.780653887285855\n",
      "3. Uppper Value: 221.40865388728585\n"
     ]
    }
   ],
   "source": [
    "#For Dl\n",
    "dl_margin_error=1.96*se_dl\n",
    "lower_dl=dl['arr_delay'].mean()-dl_margin_error\n",
    "upper_dl=dl['arr_delay'].mean()+dl_margin_error\n",
    "\n",
    "print(\"The metrics for DL are \\n\")\n",
    "print(\"1. Lower Value:\",dl['arr_delay'].mean()-dl_margin_error)\n",
    "print(\"2. Mean Value:\",1.96*se_dl)\n",
    "print(\"3. Uppper Value:\",dl['arr_delay'].mean()+dl_margin_error)"
   ]
  },
  {
   "cell_type": "code",
   "execution_count": 175,
   "metadata": {},
   "outputs": [
    {
     "name": "stdout",
     "output_type": "stream",
     "text": [
      "The metrics for UA are \n",
      "\n",
      "1. Lower Value: 203.75115182111108\n",
      "2. Mean Value: 3.8018481788889122\n",
      "3. Uppper Value: 211.35484817888891\n"
     ]
    }
   ],
   "source": [
    "#For UA\n",
    "ua_margin_error=1.96*se_ua\n",
    "lower_ua=ua['arr_delay'].mean()-ua_margin_error\n",
    "upper_ua=ua['arr_delay'].mean()+ua_margin_error\n",
    "\n",
    "print(\"The metrics for UA are \\n\")\n",
    "print(\"1. Lower Value:\",ua['arr_delay'].mean()-ua_margin_error)\n",
    "print(\"2. Mean Value:\",1.96*se_ua)\n",
    "print(\"3. Uppper Value:\",ua['arr_delay'].mean()+ua_margin_error)"
   ]
  },
  {
   "cell_type": "markdown",
   "metadata": {},
   "source": [
    "# Task 8"
   ]
  },
  {
   "cell_type": "markdown",
   "metadata": {},
   "source": [
    "The one sample t test compares the mean your sample data to a known value."
   ]
  },
  {
   "cell_type": "markdown",
   "metadata": {},
   "source": [
    "Assumptions of the test (your data should meet these requirements for the test to be valid):\n",
    "• Data is independent.\n",
    "• Data is collected randomly.\n",
    "• The data is approximately normally distributed"
   ]
  },
  {
   "cell_type": "markdown",
   "metadata": {},
   "source": [
    "To evaluate the statistical significance of the t-test, you need to compute the p-value. The p-value ranges from 0 to 1, and is interpreted as follow:\n",
    "• A p-value lower than 0.05 means you are strongly confident to reject the null hypothesis\n",
    "• A p-value higher than 0.05 indicates that you don't have enough evidences to reject the null hypothesis."
   ]
  },
  {
   "cell_type": "code",
   "execution_count": 176,
   "metadata": {},
   "outputs": [
    {
     "name": "stdout",
     "output_type": "stream",
     "text": [
      "Null Hypothesis: Flight with DL carrier are more delayed than UA\n",
      "p-value 0.07460434224781749\n",
      "We accept the null hypothesis, i.e., DL is more delayed than UA\n"
     ]
    }
   ],
   "source": [
    "print(\"Null Hypothesis: Flight with DL carrier are more delayed than UA\")\n",
    "from scipy.stats import ttest_ind\n",
    "ttest,pval=ttest_ind(dl['arr_delay'], ua['arr_delay'])\n",
    "print(\"p-value\",pval)\n",
    "if pval<0.05:\n",
    "    print(\"We reject the null hypothesis, i.e., UA is more delayed than DL\")\n",
    "elif pval>0.05:\n",
    "    print(\"We accept the null hypothesis, i.e., DL is more delayed than UA\")"
   ]
  },
  {
   "cell_type": "code",
   "execution_count": null,
   "metadata": {},
   "outputs": [],
   "source": []
  }
 ],
 "metadata": {
  "kernelspec": {
   "display_name": "Python 3",
   "language": "python",
   "name": "python3"
  },
  "language_info": {
   "codemirror_mode": {
    "name": "ipython",
    "version": 3
   },
   "file_extension": ".py",
   "mimetype": "text/x-python",
   "name": "python",
   "nbconvert_exporter": "python",
   "pygments_lexer": "ipython3",
   "version": "3.7.3"
  }
 },
 "nbformat": 4,
 "nbformat_minor": 2
}
